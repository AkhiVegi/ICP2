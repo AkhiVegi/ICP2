{
 "cells": [
  {
   "cell_type": "code",
   "execution_count": 18,
   "id": "e2d60c1c-3b45-4261-849c-12cc4a789880",
   "metadata": {
    "editable": true,
    "scrolled": true,
    "slideshow": {
     "slide_type": ""
    },
    "tags": []
   },
   "outputs": [
    {
     "name": "stdin",
     "output_type": "stream",
     "text": [
      "enter the first name -  Good\n",
      "enter the last name -  evening\n"
     ]
    },
    {
     "name": "stdout",
     "output_type": "stream",
     "text": [
      "The full name is Good evening\n",
      "Go vnn\n"
     ]
    }
   ],
   "source": [
    "first_name = input(\"enter the first name - \") # Take the user input\n",
    "last_name = input(\"enter the last name - \") # Take the user input\n",
    "\n",
    "# Method to return fullName by taking firstName and lastName as arguments\n",
    "def fullName(firstName,lastName):\n",
    "    print(\"The full name is \" + firstName + \" \" + lastName)\n",
    "\n",
    "fullName(first_name, last_name) # invoke the fullName method that returns fullName\n",
    "\n",
    "# Method to returns every other char in the fullName string.\n",
    "def string_alternative(str):\n",
    "    print(str[::2])\n",
    "\n",
    "if __name__ == \"__main__\":\n",
    "    fullName = first_name + \" \" + last_name\n",
    "    string_alternative(fullName)"
   ]
  },
  {
   "cell_type": "code",
   "execution_count": 20,
   "id": "8e94e0ed-de41-43bd-a409-072166987c6d",
   "metadata": {},
   "outputs": [],
   "source": [
    "def wordCount():\n",
    "    word_frequency = {}\n",
    "\n",
    "    input_file = open(\"Input.txt\", \"r\") # opens the Input.txt file in read mode\n",
    "    lines = input_file.readlines() # Returns a list containing each line in the Input.txt as a list item.\n",
    "\n",
    "    for line in lines:\n",
    "        words = line.strip().split() # split returns a string into a list\n",
    "        for word in words:\n",
    "            word_frequency[word] = word_frequency.get(word, 0) + 1\n",
    "\n",
    "    output_file = open(\"Output.txt\", \"w\") # opens the Output.txt file for writing only\n",
    "    for word, count in word_frequency.items():\n",
    "        output_file.write(f\"{word}: {count}\\n\")\n",
    "\n",
    "wordCount()"
   ]
  },
  {
   "cell_type": "code",
   "execution_count": 16,
   "id": "94e5deb4-9de6-41e7-8c66-0622545f23bf",
   "metadata": {},
   "outputs": [
    {
     "name": "stdin",
     "output_type": "stream",
     "text": [
      "Enter heights in inches -  150 155 145 148\n"
     ]
    },
    {
     "name": "stdout",
     "output_type": "stream",
     "text": [
      "[381.0, 393.7, 368.3, 375.92]\n"
     ]
    },
    {
     "name": "stdin",
     "output_type": "stream",
     "text": [
      "Enter the heights in inches -  150 155 145 148\n"
     ]
    },
    {
     "name": "stdout",
     "output_type": "stream",
     "text": [
      "[381.0, 393.7, 368.3, 375.92]\n"
     ]
    }
   ],
   "source": [
    "'''Program which reads heights (inches.) of customers into a list and convert these \n",
    "heights to centimeters in a separate list using nested interacive loop \n",
    "Below inches_to_centimeters is method to convert height in inches to height in centimeteres '''\n",
    "def inches_to_centimeters(inches):\n",
    "    return inches * 2.54\n",
    "\n",
    "heights = [float(value) for value in input(\"Enter heights in inches - \").split()]\n",
    "converted_heights = []\n",
    "for height in heights:\n",
    "    converted_height = inches_to_centimeters(height)\n",
    "    converted_heights.append(converted_height)\n",
    "print(converted_heights)\n",
    "\n",
    "\n",
    "\n",
    "'''Program which reads heights (inches.) of customers into a list and convert these \n",
    "heights to centimeters in a separate list using list comprehension'''\n",
    "heights_in_centimeters = [] \n",
    "heights_in_centimeters = [(float(item) * 2.54) for item in input(\"Enter the heights in inches - \").split()]\n",
    "print(heights_in_centimeters)\n",
    "    \n"
   ]
  },
  {
   "cell_type": "code",
   "execution_count": null,
   "id": "fc405982-1e23-43f4-8504-bcfcc1638e8f",
   "metadata": {},
   "outputs": [],
   "source": []
  }
 ],
 "metadata": {
  "kernelspec": {
   "display_name": "Python 3 (ipykernel)",
   "language": "python",
   "name": "python3"
  },
  "language_info": {
   "codemirror_mode": {
    "name": "ipython",
    "version": 3
   },
   "file_extension": ".py",
   "mimetype": "text/x-python",
   "name": "python",
   "nbconvert_exporter": "python",
   "pygments_lexer": "ipython3",
   "version": "3.12.1"
  }
 },
 "nbformat": 4,
 "nbformat_minor": 5
}
